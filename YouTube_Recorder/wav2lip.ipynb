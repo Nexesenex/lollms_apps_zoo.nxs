{
  "cells": [
    {
      "cell_type": "markdown",
      "metadata": {
        "id": "fkoF-mm8CGfB"
      },
      "source": [
        "Welcome to my Easy Wav2Lip colab!\n",
        "\n",
        "My goal is to make lipsyncing with this tool easy, fast and great looking!\n",
        "\n",
        "Please view the GitHub for instructions: [https://github.com/anothermartz/Easy-Wav2Lip](https://github.com/anothermartz/Easy-Wav2Lip?tab=readme-ov-file#best-practices)"
      ]
    },
    {
      "cell_type": "code",
      "execution_count": 1,
      "metadata": {
        "id": "OZJJ-zPGiiIs",
        "outputId": "3a91a916-0f7d-425a-8617-542e24c3ff18",
        "colab": {
          "base_uri": "https://localhost:8080/"
        }
      },
      "outputs": [
        {
          "output_type": "stream",
          "name": "stdout",
          "text": [
            "Installation complete, move to Step 2!\n",
            "Execution time: 49s\n"
          ]
        }
      ],
      "source": [
        "version = 'v8.3'\n",
        "#@title <h1>Step 1: Setup \"Easy-Wav2Lip\"</h1> With one button: it's really that easy!\n",
        "#@markdown 👈 Click that little circle play button first - it will ask for Google Drive access: <br>\n",
        "#@markdown > Accept if your files are on Google Drive (recommended).\n",
        "#@markdown <br> Alternatively, you can click deny and upload files manually, but this is slower.\n",
        "\n",
        "#check if already installed\n",
        "import os\n",
        "import sys\n",
        "if os.path.exists('installed.txt'):\n",
        "  with open('last_file.txt', 'r') as file:\n",
        "    last_file = file.readline()\n",
        "  if last_file == version:\n",
        "    sys.exit('Easy-Wav2Lip '+version+' has already been run on this instance!')\n",
        "\n",
        "\n",
        "#check GPU is enabled\n",
        "print('checking for GPU')\n",
        "import torch\n",
        "if not torch.cuda.is_available():\n",
        "  sys.exit('No GPU in runtime. Please go to the \"Runtime\" menu, \"Change runtime type\" and select \"GPU\".')\n",
        "\n",
        "#prompt to mount google drive\n",
        "print('requesting Google Drive access')\n",
        "try:\n",
        "  from google.colab import drive\n",
        "  drive.mount('/content/drive')\n",
        "except:\n",
        "  print(\"google drive not linked\")\n",
        "\n",
        "\n",
        "#start timer\n",
        "import time\n",
        "start_time = time.time()\n",
        "\n",
        "#clone git\n",
        "giturl = 'https://github.com/anothermartz/Easy-Wav2Lip.git'\n",
        "\n",
        "\n",
        "!git clone -b {version} {giturl}\n",
        "%cd 'Easy-Wav2Lip'\n",
        "working_directory = os.getcwd()\n",
        "!mkdir 'face_alignment' 'temp'\n",
        "\n",
        "#install prerequisites\n",
        "print('installing batch_face')\n",
        "import warnings\n",
        "warnings.filterwarnings(\"ignore\", category=UserWarning,\n",
        "                        module='torchvision.transforms.functional_tensor')\n",
        "!pip install batch_face --quiet\n",
        "!pip install basicsr==1.4.2 --quiet\n",
        "print('fixing basicsr degradations.py')\n",
        "!cp /content/Easy-Wav2Lip/degradations.py /usr/local/lib/python3.10/dist-packages/basicsr/data/degradations.py\n",
        "print('installing gfpgan')\n",
        "!pip install gfpgan --quiet\n",
        "\n",
        "!python install.py\n",
        "\n",
        "from IPython.display import clear_output\n",
        "clear_output()\n",
        "print(\"Installation complete, move to Step 2!\")\n",
        "\n",
        "#end timer\n",
        "elapsed_time = time.time() - start_time\n",
        "from easy_functions import format_time\n",
        "print(f\"Execution time: {format_time(elapsed_time)}\")"
      ]
    },
    {
      "cell_type": "code",
      "source": [
        "import os\n",
        "import sys\n",
        "import time\n",
        "import ipywidgets as widgets\n",
        "from IPython.display import display, HTML, Image, clear_output\n",
        "from google.colab import files\n",
        "import configparser\n",
        "\n",
        "if not os.path.exists('installed.txt'):\n",
        "  sys.exit('Step 1 has not been run in this instance! Please run step 1 each time you disconnect from a runtime.')\n",
        "\n",
        "print(\"Starting Step 2: Upload input files\")\n",
        "\n",
        "############################## user inputs #####################################\n",
        "#@markdown <h1>Step 2: Upload input files:</h1>\n",
        "\n",
        "# Create upload widgets\n",
        "video_upload = widgets.FileUpload(accept='.mp4,.avi,.mov', multiple=False, description='Upload Video')\n",
        "audio_upload = widgets.FileUpload(accept='.wav,.mp3', multiple=False, description='Upload Audio (Optional)')\n",
        "\n",
        "# Display upload widgets\n",
        "display(HTML(\"<b>Upload Video File:</b>\"))\n",
        "display(video_upload)\n",
        "display(HTML(\"<b>Upload Audio File (Optional):</b>\"))\n",
        "display(audio_upload)\n",
        "\n",
        "\n",
        "# Create an output widget to display status messages\n",
        "status_output = widgets.Output()\n",
        "display(status_output)\n",
        "\n",
        "# Function to save uploaded files\n",
        "def save_uploaded_file(uploaded_file, file_type):\n",
        "  print(\"Saving uploaded file. Please wait ...\")\n",
        "  if not uploaded_file:\n",
        "      return \"\"\n",
        "  file_name = next(iter(uploaded_file))\n",
        "  content = uploaded_file[file_name]['content']\n",
        "  path = f\"/content/{file_name}\"\n",
        "  with open(path, \"wb\") as f:\n",
        "      f.write(content)\n",
        "  print(\"Saving uploaded file done.\")\n",
        "  return path\n",
        "\n",
        "print(\"Step 2 setup completed. Please upload your files and click 'Validate and Process'.\")\n",
        "\n",
        "#@markdown # Quality\n",
        "quality = \"Enhanced\" # @param [\"Fast\", \"Improved\", \"Enhanced\"]\n",
        "#@markdown * <b><u>Fast</u></b>: Wav2Lip <br>\n",
        "#@markdown * <b><u>Improved</u></b>: Wav2Lip with a feathered mask around the mouth to remove the square around the face <br>\n",
        "#@markdown * <b><u>Enhanced</u></b>: Wav2Lip + mask + GFPGAN upscaling done on the face\n",
        "output_height = \"full resolution\" #@param [\"half resolution\", \"full resolution\", \"480\"] {allow-input: true}\n",
        "use_previous_tracking_data = True #@param {type:\"boolean\"}\n",
        "\n",
        "#@markdown # [Advanced tweaking](https://github.com/anothermartz/Easy-Wav2Lip/tree/v7#advanced-tweaking) (optional)\n",
        "wav2lip_version = \"Wav2Lip_GAN\" # @param [\"Wav2Lip\", \"Wav2Lip_GAN\"]\n",
        "nosmooth = True #@param {type:\"boolean\"}\n",
        "#@markdown ### [Padding:](https://github.com/anothermartz/Easy-Wav2Lip/tree/v7#padding)</h1> (Up, Down, Left, Right) <br>\n",
        "U = 0 #@param {type:\"slider\", min:-100, max:100, step:1}\n",
        "D = 10 #@param {type:\"slider\", min:-100, max:100, step:1}\n",
        "L = 0 #@param {type:\"slider\", min:-100, max:100, step:1}\n",
        "R = 0 #@param {type:\"slider\", min:-100, max:100, step:1}\n",
        "\n",
        "#@markdown ### [Mask:](https://github.com/anothermartz/Easy-Wav2Lip/tree/v7#other-options)\n",
        "size = 1.5 #@param {type:\"slider\", min:1, max:6, step:0.1}\n",
        "feathering = 1 #@param {type:\"slider\", min:0, max:3, step:1}\n",
        "mouth_tracking = True #@param {type:\"boolean\"}\n",
        "debug_mask = False #@param {type:\"boolean\"}\n",
        "\n",
        "#@markdown # [Other options:](https://github.com/anothermartz/Easy-Wav2Lip/tree/v7#other-options)\n",
        "batch_process = True #@param {type:\"boolean\"}\n",
        "output_suffix = \"_Easy-Wav2Lip\" #@param {type:\"string\"}\n",
        "include_settings_in_suffix = False #@param {type:\"boolean\"}\n",
        "preview_input = False #@param {type:\"boolean\"}\n",
        "preview_settings = False #@param {type:\"boolean\"}\n",
        "frame_to_preview = 100 # @param {type:\"integer\"}\n"
      ],
      "metadata": {
        "id": "akznIwTZK_o8",
        "colab": {
          "base_uri": "https://localhost:8080/"
        },
        "outputId": "cddf250c-b7bf-4b1c-e69c-bb6df82ccfa9"
      },
      "execution_count": 3,
      "outputs": [
        {
          "output_type": "stream",
          "name": "stdout",
          "text": [
            "Starting Step 2: Upload input files\n"
          ]
        },
        {
          "output_type": "display_data",
          "data": {
            "text/plain": [
              "<IPython.core.display.HTML object>"
            ],
            "text/html": [
              "<b>Upload Video File:</b>"
            ]
          },
          "metadata": {}
        },
        {
          "output_type": "display_data",
          "data": {
            "text/plain": [
              "FileUpload(value={}, accept='.mp4,.avi,.mov', description='Upload Video')"
            ],
            "application/vnd.jupyter.widget-view+json": {
              "version_major": 2,
              "version_minor": 0,
              "model_id": "c10256f34d3341c68382e919731b1ec8"
            }
          },
          "metadata": {}
        },
        {
          "output_type": "display_data",
          "data": {
            "text/plain": [
              "<IPython.core.display.HTML object>"
            ],
            "text/html": [
              "<b>Upload Audio File (Optional):</b>"
            ]
          },
          "metadata": {}
        },
        {
          "output_type": "display_data",
          "data": {
            "text/plain": [
              "FileUpload(value={}, accept='.wav,.mp3', description='Upload Audio (Optional)')"
            ],
            "application/vnd.jupyter.widget-view+json": {
              "version_major": 2,
              "version_minor": 0,
              "model_id": "6c4d7645e17540aca7e0694e66a43390"
            }
          },
          "metadata": {}
        },
        {
          "output_type": "display_data",
          "data": {
            "text/plain": [
              "Output()"
            ],
            "application/vnd.jupyter.widget-view+json": {
              "version_major": 2,
              "version_minor": 0,
              "model_id": "35892f374e7b4665814eeb5da28912b0"
            }
          },
          "metadata": {}
        },
        {
          "output_type": "stream",
          "name": "stdout",
          "text": [
            "Step 2 setup completed. Please upload your files and click 'Validate and Process'.\n"
          ]
        }
      ]
    },
    {
      "cell_type": "code",
      "source": [
        "with status_output:\n",
        "    clear_output()\n",
        "\n",
        "    print(\"Starting file validation and processing\")\n",
        "\n",
        "    if not video_upload.value:\n",
        "        raise Exception(\"Please upload a video file before validating.\")\n",
        "\n",
        "    print(\"Saving uploaded files...\")\n",
        "    video_file = save_uploaded_file(video_upload.value, \"Video\")\n",
        "    vocal_file = save_uploaded_file(audio_upload.value, \"Audio\")\n",
        "\n",
        "    print(f\"Video file saved: {video_file}\")\n",
        "    if vocal_file:\n",
        "        print(f\"Audio file saved: {vocal_file}\")\n",
        "    else:\n",
        "        print(\"No audio file uploaded.\")\n",
        "\n",
        "    print(\"\\nStarting configuration...\")\n",
        "\n",
        "    # Create a ConfigParser object\n",
        "    config = configparser.ConfigParser()\n",
        "\n",
        "    # Put all your variables in a dictionary\n",
        "    options = {\n",
        "        'video_file': video_file,\n",
        "        'vocal_file': vocal_file,\n",
        "        'quality': quality,\n",
        "        'output_height': output_height,\n",
        "        'wav2lip_version': wav2lip_version,\n",
        "        'use_previous_tracking_data': use_previous_tracking_data,\n",
        "        'nosmooth': nosmooth\n",
        "    }\n",
        "    padding = {\n",
        "        'U': U,\n",
        "        'D': D,\n",
        "        'L': L,\n",
        "        'R': R\n",
        "    }\n",
        "    mask = {\n",
        "        'size': size,\n",
        "        'feathering': feathering,\n",
        "        'mouth_tracking': mouth_tracking,\n",
        "        'debug_mask': debug_mask\n",
        "    }\n",
        "    other = {\n",
        "        'batch_process': batch_process,\n",
        "        'output_suffix': output_suffix,\n",
        "        'include_settings_in_suffix': include_settings_in_suffix,\n",
        "        'preview_input': preview_input,\n",
        "        'preview_settings': preview_settings,\n",
        "        'frame_to_preview': frame_to_preview\n",
        "    }\n",
        "\n",
        "    # Add the dictionary to the ConfigParser object\n",
        "    config['OPTIONS'] = options\n",
        "    config['PADDING'] = padding\n",
        "    config['MASK'] = mask\n",
        "    config['OTHER'] = other\n",
        "\n",
        "    # Write the data to an INI file\n",
        "    with open('config.ini', 'w') as f:\n",
        "        config.write(f)\n",
        "\n",
        "    print(\"Configuration completed. Starting processing...\")\n",
        "\n",
        "    # Run the processing script\n",
        "    !python run.py\n",
        "\n",
        "    print(\"Processing completed. Displaying results...\")\n",
        "\n",
        "    # Display results\n",
        "    from easy_functions import show_video\n",
        "    from IPython.display import Image\n",
        "    if preview_settings:\n",
        "        if os.path.isfile(os.path.join('temp','preview.jpg')):\n",
        "            display(Image(os.path.join('temp','preview.jpg')))\n",
        "    else:\n",
        "        if os.path.isfile(os.path.join('temp','output.mp4')):\n",
        "            print(f\"Loading video preview...\")\n",
        "            show_video(os.path.join('temp','output.mp4'))\n",
        "\n",
        "    print(\"Results displayed. Initiating file download...\")\n",
        "\n",
        "    # Download the generated file\n",
        "    output_file = os.path.join('temp','output.mp4')\n",
        "    if os.path.isfile(output_file):\n",
        "        files.download(output_file)\n",
        "        print(f\"File '{output_file}' has been downloaded.\")\n",
        "    else:\n",
        "        print(f\"Output file '{output_file}' not found. Please check the processing results.\")\n",
        "\n",
        "    print(\"Step 2 completed.\")"
      ],
      "metadata": {
        "id": "XMwy29rlyAie"
      },
      "execution_count": null,
      "outputs": []
    }
  ],
  "metadata": {
    "accelerator": "GPU",
    "colab": {
      "provenance": [],
      "gpuType": "T4"
    },
    "kernelspec": {
      "display_name": "Python 3",
      "name": "python3"
    },
    "language_info": {
      "name": "python"
    }
  },
  "nbformat": 4,
  "nbformat_minor": 0
}